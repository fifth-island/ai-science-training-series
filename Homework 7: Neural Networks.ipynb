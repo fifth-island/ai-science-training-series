{
 "cells": [
  {
   "cell_type": "markdown",
   "id": "9d7b57101f332d51",
   "metadata": {},
   "source": [
    "**Author:** João Victor Quintanilha  \n",
    "**Date:** 2024-11-18\n",
    "\n",
    "# PART 1: Conceptual\n",
    "\n",
    "Consider a neural network with 4 input units, two hidden layers each consisting of two neurons, and a single output.\n",
    "\n",
    "## Question 01. \n",
    "How many parameters (weights & biases) need to be estimated for this model?\n"
   ]
  },
  {
   "cell_type": "markdown",
   "id": "b4e79ecfacf7e6a0",
   "metadata": {},
   "source": [
    "To calculate the total parameters in a neural network, we account for weights and biases layer by layer:\n",
    "\n",
    "1. **From Input Layer to First Hidden Layer:**\n",
    "   - 4 input units connect to 2 neurons in the first hidden layer.\n",
    "   - **Weights:** 4 x 2 = 8\n",
    "   - **Biases:** Each neuron has 1 bias, so 2 biases.\n",
    "   - **Total:** 8 + 2 = 10\n",
    "\n",
    "2. **From First Hidden Layer to Second Hidden Layer:**\n",
    "   - 2 neurons in the first hidden layer connect to 2 neurons in the second hidden layer.\n",
    "   - **Weights:** 2 x 2 = 4\n",
    "   - **Biases:** Each neuron has 1 bias, so 2 biases.\n",
    "   - **Total:** 4 + 2 = 6\n",
    "\n",
    "3. **From Second Hidden Layer to Output Layer:**\n",
    "   - 2 neurons in the second hidden layer connect to the 1 output neuron.\n",
    "   - **Weights:** 2 x 1 = 2\n",
    "   - **Biases:** The output neuron has 1 bias, so 1 bias.\n",
    "   - **Total:** 2 + 1 = 3\n",
    "\n",
    "### Total Parameters:\n",
    "Adding up the parameters from all layers:\n",
    "$$ 10 + 6 + 3 = 19 $$\n",
    "\n",
    "**The model requires a total of 19 parameters (weights and biases) to be estimated.**"
   ]
  },
  {
   "cell_type": "markdown",
   "id": "9f33b5553673f086",
   "metadata": {},
   "source": [
    "## Question 02. \n",
    "Draw a picture of this network (label each unit and link)"
   ]
  },
  {
   "cell_type": "markdown",
   "id": "484ce32ef734d49b",
   "metadata": {},
   "source": [
    "![Diagram of network (produced on mermaid.live](figure1.png)\n",
    "\n",
    "\n",
    "*Figure 1: Diagram of network (produced on mermaid.live)*"
   ]
  },
  {
   "cell_type": "markdown",
   "source": [
    "## Question 03. \n",
    "Write an expression for the output in terms of the input and model parameters. Assume activation functions to be ReLU."
   ],
   "metadata": {
    "collapsed": false
   },
   "id": "783941e204aec529"
  },
  {
   "cell_type": "markdown",
   "source": [
    "The output of the neural network can be expressed layer-by-layer using the following notations:\n",
    "\n",
    "- **Inputs:** $x_1, x_2, x_3, x_4$\n",
    "- **Weights:** $W_{ij}^{(l)}$, where $l$ is the layer index, $i$ is the neuron in the previous layer, and $j$ is the neuron in the current layer.\n",
    "- **Biases:** $b_j^{(l)}$, where $l$ is the layer index and $j$ is the neuron index.\n",
    "- **Activation Function:** ReLU, defined as $\\text{ReLU}(z) = \\max(0, z)$.\n",
    "\n",
    "---\n",
    "\n",
    "#### Layer-by-Layer Expressions:\n",
    "\n",
    "1. **First Hidden Layer**:  \n",
    "   The activations for the first hidden layer are:\n",
    "   $$\n",
    "   h_1^{(1)} = \\text{ReLU}\\left(W_{11}^{(1)} x_1 + W_{12}^{(1)} x_2 + W_{13}^{(1)} x_3 + W_{14}^{(1)} x_4 + b_1^{(1)}\\right),\n",
    "   $$\n",
    "   $$\n",
    "   h_2^{(1)} = \\text{ReLU}\\left(W_{21}^{(1)} x_1 + W_{22}^{(1)} x_2 + W_{23}^{(1)} x_3 + W_{24}^{(1)} x_4 + b_2^{(1)}\\right).\n",
    "   $$\n",
    "\n",
    "2. **Second Hidden Layer**:  \n",
    "   The activations for the second hidden layer are:\n",
    "   $$\n",
    "   h_1^{(2)} = \\text{ReLU}\\left(W_{11}^{(2)} h_1^{(1)} + W_{12}^{(2)} h_2^{(1)} + b_1^{(2)}\\right),\n",
    "   $$\n",
    "   $$\n",
    "   h_2^{(2)} = \\text{ReLU}\\left(W_{21}^{(2)} h_1^{(1)} + W_{22}^{(2)} h_2^{(1)} + b_2^{(2)}\\right).\n",
    "   $$\n",
    "\n",
    "3. **Output Layer**:  \n",
    "   The output of the neural network is:\n",
    "   $$\n",
    "   y = \\text{ReLU}\\left(W_{11}^{(3)} h_1^{(2)} + W_{12}^{(3)} h_2^{(2)} + b^{(3)}\\right).\n",
    "   $$\n",
    "\n",
    "---\n",
    "\n",
    "### Final Output (Compact Form):\n",
    "\n",
    "The final output $y$ can be expressed recursively as:\n",
    "$$\n",
    "h_j^{(l)} = \\text{ReLU}\\left(\\sum_i W_{ij}^{(l)} h_i^{(l-1)} + b_j^{(l)}\\right),\n",
    "$$\n",
    "where $h_i^{(0)} = x_i$ (the input), and the final output is:\n",
    "$$\n",
    "y = h_1^{(3)}.\n",
    "$$\n",
    "\n",
    "---\n",
    "\n",
    "### Explanation:\n",
    "\n",
    "1. **Layer Structure**:  \n",
    "   - **First Layer**: Maps the inputs $x_i$ through weighted sums and biases, followed by ReLU activation.  \n",
    "   - **Second Layer**: Takes activations from the first hidden layer as inputs and applies the same weighted sum, bias, and ReLU operation.  \n",
    "   - **Output Layer**: Combines the second hidden layer’s activations into a single output value with ReLU.\n",
    "\n",
    "2. **Recursive Representation**:  \n",
    "   The compact representation describes the neural network's computation across layers without needing to expand all neuron-specific calculations.\n",
    "\n",
    "3. **Activation and Output**:  \n",
    "   ReLU ensures non-linearity, and the final output layer uses a weighted sum of the last hidden layer activations.\n",
    "\n"
   ],
   "metadata": {
    "collapsed": false
   },
   "id": "f369da5bf3efee40"
  },
  {
   "cell_type": "markdown",
   "source": [
    "# PART 02: Coding"
   ],
   "metadata": {
    "collapsed": false
   },
   "id": "1c1df6ffde8cda69"
  },
  {
   "cell_type": "markdown",
   "source": [
    "You are required to work with the loan.csv dataset, which will be used to predict the status of a loan (loan status) based on various predictor variables included in the dataset. You are free to build your model using Python or R.\n",
    "\n",
    "Variables:\n",
    "The response variable is: Y = loan status\n",
    "The predictor variables we are interested in are all other variables in the dataset."
   ],
   "metadata": {
    "collapsed": false
   },
   "id": "9ba33b57e39fac93"
  },
  {
   "cell_type": "markdown",
   "source": [
    "## Question 01. \n",
    "Begin by cleaning the dataset: remove all rows containing null values. Next, convert all categorical features into numeric formats suitable for modeling. Ensure that the dataset is balanced with respect to the response variable loan status to prevent any bias in prediction outcomes. Finally, split the dataset into a training set (70%) and a testing set (30%), and display the shape of each to confirm the split."
   ],
   "metadata": {
    "collapsed": false
   },
   "id": "9bc230550710e8f"
  },
  {
   "cell_type": "code",
   "outputs": [
    {
     "name": "stdout",
     "output_type": "stream",
     "text": [
      "Dataset Preview:\n",
      "   id  person_age  person_income person_home_ownership  person_emp_length  \\\n",
      "0   0          37          35000                  RENT                0.0   \n",
      "1   1          22          56000                   OWN                6.0   \n",
      "2   2          29          28800                   OWN                8.0   \n",
      "3   3          30          70000                  RENT               14.0   \n",
      "4   4          22          60000                  RENT                2.0   \n",
      "\n",
      "  loan_intent loan_grade  loan_amnt  loan_int_rate  loan_percent_income  \\\n",
      "0   EDUCATION          B       6000          11.49                 0.17   \n",
      "1     MEDICAL          C       4000          13.35                 0.07   \n",
      "2    PERSONAL          A       6000           8.90                 0.21   \n",
      "3     VENTURE          B      12000          11.11                 0.17   \n",
      "4     MEDICAL          A       6000           6.92                 0.10   \n",
      "\n",
      "  cb_person_default_on_file  cb_person_cred_hist_length  loan_status  \n",
      "0                         N                          14            0  \n",
      "1                         N                           2            0  \n",
      "2                         N                          10            0  \n",
      "3                         N                           5            0  \n",
      "4                         N                           3            0  \n"
     ]
    }
   ],
   "source": [
    "# Import necessary libraries\n",
    "import pandas as pd\n",
    "from sklearn.model_selection import train_test_split\n",
    "from sklearn.utils import resample\n",
    "\n",
    "# Load the dataset\n",
    "df = pd.read_csv(\"loan.csv\")\n",
    "\n",
    "# Display the first few rows of the dataset\n",
    "print(\"Dataset Preview:\")\n",
    "print(df.head())"
   ],
   "metadata": {
    "collapsed": false,
    "ExecuteTime": {
     "end_time": "2024-11-20T21:25:11.511463Z",
     "start_time": "2024-11-20T21:25:08.304129Z"
    }
   },
   "id": "bdfd839879b4c5a4",
   "execution_count": 1
  },
  {
   "cell_type": "markdown",
   "source": [
    "### 1. Cleaning the dataset: Remove rows with null values\n"
   ],
   "metadata": {
    "collapsed": false
   },
   "id": "281115dda129a89a"
  },
  {
   "cell_type": "code",
   "outputs": [
    {
     "name": "stdout",
     "output_type": "stream",
     "text": [
      "\n",
      "Dataset after dropping null values:\n",
      "<class 'pandas.core.frame.DataFrame'>\n",
      "RangeIndex: 58645 entries, 0 to 58644\n",
      "Data columns (total 13 columns):\n",
      " #   Column                      Non-Null Count  Dtype  \n",
      "---  ------                      --------------  -----  \n",
      " 0   id                          58645 non-null  int64  \n",
      " 1   person_age                  58645 non-null  int64  \n",
      " 2   person_income               58645 non-null  int64  \n",
      " 3   person_home_ownership       58645 non-null  object \n",
      " 4   person_emp_length           58645 non-null  float64\n",
      " 5   loan_intent                 58645 non-null  object \n",
      " 6   loan_grade                  58645 non-null  object \n",
      " 7   loan_amnt                   58645 non-null  int64  \n",
      " 8   loan_int_rate               58645 non-null  float64\n",
      " 9   loan_percent_income         58645 non-null  float64\n",
      " 10  cb_person_default_on_file   58645 non-null  object \n",
      " 11  cb_person_cred_hist_length  58645 non-null  int64  \n",
      " 12  loan_status                 58645 non-null  int64  \n",
      "dtypes: float64(3), int64(6), object(4)\n",
      "memory usage: 5.8+ MB\n",
      "None\n"
     ]
    }
   ],
   "source": [
    "df = df.dropna()\n",
    "print(\"\\nDataset after dropping null values:\")\n",
    "print(df.info())"
   ],
   "metadata": {
    "collapsed": false,
    "ExecuteTime": {
     "end_time": "2024-11-20T21:25:11.570295Z",
     "start_time": "2024-11-20T21:25:11.512803Z"
    }
   },
   "id": "5acb55e9770215e2",
   "execution_count": 2
  },
  {
   "cell_type": "markdown",
   "source": [
    "### 2. Convert categorical features to numeric formats\n"
   ],
   "metadata": {
    "collapsed": false
   },
   "id": "fb0fccdf584cea7a"
  },
  {
   "cell_type": "code",
   "outputs": [
    {
     "name": "stdout",
     "output_type": "stream",
     "text": [
      "\n",
      "Dataset after converting categorical features:\n",
      "   id  person_age  person_income  person_emp_length  loan_amnt  loan_int_rate  \\\n",
      "0   0          37          35000                0.0       6000          11.49   \n",
      "1   1          22          56000                6.0       4000          13.35   \n",
      "2   2          29          28800                8.0       6000           8.90   \n",
      "3   3          30          70000               14.0      12000          11.11   \n",
      "4   4          22          60000                2.0       6000           6.92   \n",
      "\n",
      "   loan_percent_income  cb_person_cred_hist_length  loan_status  \\\n",
      "0                 0.17                          14            0   \n",
      "1                 0.07                           2            0   \n",
      "2                 0.21                          10            0   \n",
      "3                 0.17                           5            0   \n",
      "4                 0.10                           3            0   \n",
      "\n",
      "   person_home_ownership_OTHER  ...  loan_intent_MEDICAL  \\\n",
      "0                            0  ...                    0   \n",
      "1                            0  ...                    1   \n",
      "2                            0  ...                    0   \n",
      "3                            0  ...                    0   \n",
      "4                            0  ...                    1   \n",
      "\n",
      "   loan_intent_PERSONAL  loan_intent_VENTURE  loan_grade_B  loan_grade_C  \\\n",
      "0                     0                    0             1             0   \n",
      "1                     0                    0             0             1   \n",
      "2                     1                    0             0             0   \n",
      "3                     0                    1             1             0   \n",
      "4                     0                    0             0             0   \n",
      "\n",
      "   loan_grade_D  loan_grade_E  loan_grade_F  loan_grade_G  \\\n",
      "0             0             0             0             0   \n",
      "1             0             0             0             0   \n",
      "2             0             0             0             0   \n",
      "3             0             0             0             0   \n",
      "4             0             0             0             0   \n",
      "\n",
      "   cb_person_default_on_file_Y  \n",
      "0                            0  \n",
      "1                            0  \n",
      "2                            0  \n",
      "3                            0  \n",
      "4                            0  \n",
      "\n",
      "[5 rows x 24 columns]\n"
     ]
    }
   ],
   "source": [
    "categorical_columns = ['person_home_ownership', 'loan_intent', 'loan_grade', 'cb_person_default_on_file']\n",
    "df = pd.get_dummies(df, columns=categorical_columns, drop_first=True)\n",
    "print(\"\\nDataset after converting categorical features:\")\n",
    "print(df.head())\n"
   ],
   "metadata": {
    "collapsed": false,
    "ExecuteTime": {
     "end_time": "2024-11-20T21:25:11.599157Z",
     "start_time": "2024-11-20T21:25:11.571205Z"
    }
   },
   "id": "f1981012a3003b7b",
   "execution_count": 3
  },
  {
   "cell_type": "markdown",
   "source": [
    "### 3. Balance the dataset with respect to the response variable"
   ],
   "metadata": {
    "collapsed": false
   },
   "id": "6c681a4443e6cdd2"
  },
  {
   "cell_type": "code",
   "outputs": [
    {
     "name": "stdout",
     "output_type": "stream",
     "text": [
      "\n",
      "Dataset after balancing:\n",
      "0    50295\n",
      "1    50295\n",
      "Name: loan_status, dtype: int64\n"
     ]
    }
   ],
   "source": [
    "# Separate majority and minority classes\n",
    "df_majority = df[df['loan_status'] == 0]\n",
    "df_minority = df[df['loan_status'] == 1]\n",
    "\n",
    "# Upsample minority class\n",
    "df_minority_upsampled = resample(df_minority,\n",
    "                                 replace=True,  # sample with replacement\n",
    "                                 n_samples=len(df_majority),  # to match majority class size\n",
    "                                 random_state=42)  # reproducible results\n",
    "\n",
    "# Combine majority class with upsampled minority class\n",
    "df_balanced = pd.concat([df_majority, df_minority_upsampled])\n",
    "\n",
    "# Shuffle the dataset\n",
    "df_balanced = df_balanced.sample(frac=1, random_state=42).reset_index(drop=True)\n",
    "\n",
    "print(\"\\nDataset after balancing:\")\n",
    "print(df_balanced['loan_status'].value_counts())"
   ],
   "metadata": {
    "collapsed": false,
    "ExecuteTime": {
     "end_time": "2024-11-20T21:25:11.636271Z",
     "start_time": "2024-11-20T21:25:11.601341Z"
    }
   },
   "id": "395b30e12fe68879",
   "execution_count": 4
  },
  {
   "cell_type": "markdown",
   "source": [
    "### 4. Split the dataset into training and testing sets"
   ],
   "metadata": {
    "collapsed": false
   },
   "id": "116e48a3fe2494a3"
  },
  {
   "cell_type": "code",
   "outputs": [
    {
     "name": "stdout",
     "output_type": "stream",
     "text": [
      "\n",
      "Shape of Training and Testing Sets:\n",
      "X_train: (70413, 23), X_test: (30177, 23)\n",
      "y_train: (70413,), y_test: (30177,)\n"
     ]
    }
   ],
   "source": [
    "X = df_balanced.drop('loan_status', axis=1)  # Predictor variables\n",
    "y = df_balanced['loan_status']  # Response variable\n",
    "\n",
    "X_train, X_test, y_train, y_test = train_test_split(X, y, test_size=0.3, random_state=42)\n",
    "\n",
    "# Display the shapes of the splits\n",
    "print(\"\\nShape of Training and Testing Sets:\")\n",
    "print(f\"X_train: {X_train.shape}, X_test: {X_test.shape}\")\n",
    "print(f\"y_train: {y_train.shape}, y_test: {y_test.shape}\")\n"
   ],
   "metadata": {
    "collapsed": false,
    "ExecuteTime": {
     "end_time": "2024-11-20T21:25:11.655036Z",
     "start_time": "2024-11-20T21:25:11.637796Z"
    }
   },
   "id": "5cbd480caeb86dad",
   "execution_count": 5
  },
  {
   "cell_type": "markdown",
   "source": [
    "## Question 02.\n",
    "Construct a neural network model with at least one hidden layer to predict loan status. Compile and train your model using the training dataset. After training, use the model to predict loan status on the test dataset. Evaluate your model’s performance by calculating its accuracy and generating a confusion matrix. If the initial model accuracy is below 85%, adjust and tune your model to achieve at least 85% accuracy."
   ],
   "metadata": {
    "collapsed": false
   },
   "id": "4e8425be2081876b"
  },
  {
   "cell_type": "code",
   "outputs": [
    {
     "name": "stdout",
     "output_type": "stream",
     "text": [
      "Epoch 1/100\n",
      "\u001B[1m881/881\u001B[0m \u001B[32m━━━━━━━━━━━━━━━━━━━━\u001B[0m\u001B[37m\u001B[0m \u001B[1m1s\u001B[0m 711us/step - accuracy: 0.6155 - loss: 0.6427 - val_accuracy: 0.8221 - val_loss: 0.4221\n",
      "Epoch 2/100\n",
      "\u001B[1m881/881\u001B[0m \u001B[32m━━━━━━━━━━━━━━━━━━━━\u001B[0m\u001B[37m\u001B[0m \u001B[1m1s\u001B[0m 681us/step - accuracy: 0.8011 - loss: 0.4471 - val_accuracy: 0.8383 - val_loss: 0.3812\n",
      "Epoch 3/100\n",
      "\u001B[1m881/881\u001B[0m \u001B[32m━━━━━━━━━━━━━━━━━━━━\u001B[0m\u001B[37m\u001B[0m \u001B[1m1s\u001B[0m 829us/step - accuracy: 0.8198 - loss: 0.4136 - val_accuracy: 0.8421 - val_loss: 0.3669\n",
      "Epoch 4/100\n",
      "\u001B[1m881/881\u001B[0m \u001B[32m━━━━━━━━━━━━━━━━━━━━\u001B[0m\u001B[37m\u001B[0m \u001B[1m1s\u001B[0m 750us/step - accuracy: 0.8290 - loss: 0.3991 - val_accuracy: 0.8451 - val_loss: 0.3590\n",
      "Epoch 5/100\n",
      "\u001B[1m881/881\u001B[0m \u001B[32m━━━━━━━━━━━━━━━━━━━━\u001B[0m\u001B[37m\u001B[0m \u001B[1m1s\u001B[0m 738us/step - accuracy: 0.8323 - loss: 0.3948 - val_accuracy: 0.8458 - val_loss: 0.3534\n",
      "Epoch 6/100\n",
      "\u001B[1m881/881\u001B[0m \u001B[32m━━━━━━━━━━━━━━━━━━━━\u001B[0m\u001B[37m\u001B[0m \u001B[1m1s\u001B[0m 706us/step - accuracy: 0.8338 - loss: 0.3870 - val_accuracy: 0.8485 - val_loss: 0.3492\n",
      "Epoch 7/100\n",
      "\u001B[1m881/881\u001B[0m \u001B[32m━━━━━━━━━━━━━━━━━━━━\u001B[0m\u001B[37m\u001B[0m \u001B[1m1s\u001B[0m 742us/step - accuracy: 0.8390 - loss: 0.3806 - val_accuracy: 0.8509 - val_loss: 0.3454\n",
      "Epoch 8/100\n",
      "\u001B[1m881/881\u001B[0m \u001B[32m━━━━━━━━━━━━━━━━━━━━\u001B[0m\u001B[37m\u001B[0m \u001B[1m1s\u001B[0m 671us/step - accuracy: 0.8383 - loss: 0.3791 - val_accuracy: 0.8519 - val_loss: 0.3425\n",
      "Epoch 9/100\n",
      "\u001B[1m881/881\u001B[0m \u001B[32m━━━━━━━━━━━━━━━━━━━━\u001B[0m\u001B[37m\u001B[0m \u001B[1m1s\u001B[0m 713us/step - accuracy: 0.8429 - loss: 0.3725 - val_accuracy: 0.8557 - val_loss: 0.3396\n",
      "Epoch 10/100\n",
      "\u001B[1m881/881\u001B[0m \u001B[32m━━━━━━━━━━━━━━━━━━━━\u001B[0m\u001B[37m\u001B[0m \u001B[1m1s\u001B[0m 702us/step - accuracy: 0.8452 - loss: 0.3641 - val_accuracy: 0.8551 - val_loss: 0.3372\n",
      "Epoch 11/100\n",
      "\u001B[1m881/881\u001B[0m \u001B[32m━━━━━━━━━━━━━━━━━━━━\u001B[0m\u001B[37m\u001B[0m \u001B[1m1s\u001B[0m 701us/step - accuracy: 0.8423 - loss: 0.3661 - val_accuracy: 0.8559 - val_loss: 0.3350\n",
      "Epoch 12/100\n",
      "\u001B[1m881/881\u001B[0m \u001B[32m━━━━━━━━━━━━━━━━━━━━\u001B[0m\u001B[37m\u001B[0m \u001B[1m1s\u001B[0m 685us/step - accuracy: 0.8477 - loss: 0.3593 - val_accuracy: 0.8570 - val_loss: 0.3331\n",
      "Epoch 13/100\n",
      "\u001B[1m881/881\u001B[0m \u001B[32m━━━━━━━━━━━━━━━━━━━━\u001B[0m\u001B[37m\u001B[0m \u001B[1m1s\u001B[0m 688us/step - accuracy: 0.8459 - loss: 0.3609 - val_accuracy: 0.8578 - val_loss: 0.3307\n",
      "Epoch 14/100\n",
      "\u001B[1m881/881\u001B[0m \u001B[32m━━━━━━━━━━━━━━━━━━━━\u001B[0m\u001B[37m\u001B[0m \u001B[1m1s\u001B[0m 723us/step - accuracy: 0.8466 - loss: 0.3570 - val_accuracy: 0.8592 - val_loss: 0.3290\n",
      "Epoch 15/100\n",
      "\u001B[1m881/881\u001B[0m \u001B[32m━━━━━━━━━━━━━━━━━━━━\u001B[0m\u001B[37m\u001B[0m \u001B[1m1s\u001B[0m 786us/step - accuracy: 0.8507 - loss: 0.3540 - val_accuracy: 0.8591 - val_loss: 0.3274\n",
      "Epoch 16/100\n",
      "\u001B[1m881/881\u001B[0m \u001B[32m━━━━━━━━━━━━━━━━━━━━\u001B[0m\u001B[37m\u001B[0m \u001B[1m1s\u001B[0m 2ms/step - accuracy: 0.8473 - loss: 0.3558 - val_accuracy: 0.8603 - val_loss: 0.3259\n",
      "Epoch 17/100\n",
      "\u001B[1m881/881\u001B[0m \u001B[32m━━━━━━━━━━━━━━━━━━━━\u001B[0m\u001B[37m\u001B[0m \u001B[1m1s\u001B[0m 734us/step - accuracy: 0.8505 - loss: 0.3478 - val_accuracy: 0.8602 - val_loss: 0.3243\n",
      "Epoch 18/100\n",
      "\u001B[1m881/881\u001B[0m \u001B[32m━━━━━━━━━━━━━━━━━━━━\u001B[0m\u001B[37m\u001B[0m \u001B[1m2s\u001B[0m 2ms/step - accuracy: 0.8517 - loss: 0.3457 - val_accuracy: 0.8597 - val_loss: 0.3232\n",
      "Epoch 19/100\n",
      "\u001B[1m881/881\u001B[0m \u001B[32m━━━━━━━━━━━━━━━━━━━━\u001B[0m\u001B[37m\u001B[0m \u001B[1m5s\u001B[0m 6ms/step - accuracy: 0.8486 - loss: 0.3515 - val_accuracy: 0.8601 - val_loss: 0.3221\n",
      "Epoch 20/100\n",
      "\u001B[1m881/881\u001B[0m \u001B[32m━━━━━━━━━━━━━━━━━━━━\u001B[0m\u001B[37m\u001B[0m \u001B[1m1s\u001B[0m 1ms/step - accuracy: 0.8514 - loss: 0.3486 - val_accuracy: 0.8603 - val_loss: 0.3209\n",
      "Epoch 21/100\n",
      "\u001B[1m881/881\u001B[0m \u001B[32m━━━━━━━━━━━━━━━━━━━━\u001B[0m\u001B[37m\u001B[0m \u001B[1m1s\u001B[0m 1ms/step - accuracy: 0.8508 - loss: 0.3477 - val_accuracy: 0.8609 - val_loss: 0.3202\n",
      "Epoch 22/100\n",
      "\u001B[1m881/881\u001B[0m \u001B[32m━━━━━━━━━━━━━━━━━━━━\u001B[0m\u001B[37m\u001B[0m \u001B[1m1s\u001B[0m 738us/step - accuracy: 0.8525 - loss: 0.3421 - val_accuracy: 0.8610 - val_loss: 0.3190\n",
      "Epoch 23/100\n",
      "\u001B[1m881/881\u001B[0m \u001B[32m━━━━━━━━━━━━━━━━━━━━\u001B[0m\u001B[37m\u001B[0m \u001B[1m1s\u001B[0m 862us/step - accuracy: 0.8520 - loss: 0.3420 - val_accuracy: 0.8608 - val_loss: 0.3180\n",
      "Epoch 24/100\n",
      "\u001B[1m881/881\u001B[0m \u001B[32m━━━━━━━━━━━━━━━━━━━━\u001B[0m\u001B[37m\u001B[0m \u001B[1m1s\u001B[0m 627us/step - accuracy: 0.8554 - loss: 0.3400 - val_accuracy: 0.8604 - val_loss: 0.3177\n",
      "Epoch 25/100\n",
      "\u001B[1m881/881\u001B[0m \u001B[32m━━━━━━━━━━━━━━━━━━━━\u001B[0m\u001B[37m\u001B[0m \u001B[1m1s\u001B[0m 630us/step - accuracy: 0.8523 - loss: 0.3448 - val_accuracy: 0.8607 - val_loss: 0.3169\n",
      "Epoch 26/100\n",
      "\u001B[1m881/881\u001B[0m \u001B[32m━━━━━━━━━━━━━━━━━━━━\u001B[0m\u001B[37m\u001B[0m \u001B[1m1s\u001B[0m 588us/step - accuracy: 0.8531 - loss: 0.3387 - val_accuracy: 0.8600 - val_loss: 0.3162\n",
      "Epoch 27/100\n",
      "\u001B[1m881/881\u001B[0m \u001B[32m━━━━━━━━━━━━━━━━━━━━\u001B[0m\u001B[37m\u001B[0m \u001B[1m1s\u001B[0m 580us/step - accuracy: 0.8553 - loss: 0.3375 - val_accuracy: 0.8611 - val_loss: 0.3156\n",
      "Epoch 28/100\n",
      "\u001B[1m881/881\u001B[0m \u001B[32m━━━━━━━━━━━━━━━━━━━━\u001B[0m\u001B[37m\u001B[0m \u001B[1m1s\u001B[0m 584us/step - accuracy: 0.8524 - loss: 0.3397 - val_accuracy: 0.8605 - val_loss: 0.3154\n",
      "Epoch 29/100\n",
      "\u001B[1m881/881\u001B[0m \u001B[32m━━━━━━━━━━━━━━━━━━━━\u001B[0m\u001B[37m\u001B[0m \u001B[1m1s\u001B[0m 664us/step - accuracy: 0.8533 - loss: 0.3357 - val_accuracy: 0.8606 - val_loss: 0.3142\n",
      "Epoch 30/100\n",
      "\u001B[1m881/881\u001B[0m \u001B[32m━━━━━━━━━━━━━━━━━━━━\u001B[0m\u001B[37m\u001B[0m \u001B[1m1s\u001B[0m 647us/step - accuracy: 0.8539 - loss: 0.3370 - val_accuracy: 0.8610 - val_loss: 0.3140\n",
      "Epoch 31/100\n",
      "\u001B[1m881/881\u001B[0m \u001B[32m━━━━━━━━━━━━━━━━━━━━\u001B[0m\u001B[37m\u001B[0m \u001B[1m1s\u001B[0m 555us/step - accuracy: 0.8525 - loss: 0.3406 - val_accuracy: 0.8617 - val_loss: 0.3132\n",
      "Epoch 32/100\n",
      "\u001B[1m881/881\u001B[0m \u001B[32m━━━━━━━━━━━━━━━━━━━━\u001B[0m\u001B[37m\u001B[0m \u001B[1m1s\u001B[0m 571us/step - accuracy: 0.8570 - loss: 0.3349 - val_accuracy: 0.8611 - val_loss: 0.3127\n",
      "Epoch 33/100\n",
      "\u001B[1m881/881\u001B[0m \u001B[32m━━━━━━━━━━━━━━━━━━━━\u001B[0m\u001B[37m\u001B[0m \u001B[1m1s\u001B[0m 632us/step - accuracy: 0.8525 - loss: 0.3391 - val_accuracy: 0.8612 - val_loss: 0.3124\n",
      "Epoch 34/100\n",
      "\u001B[1m881/881\u001B[0m \u001B[32m━━━━━━━━━━━━━━━━━━━━\u001B[0m\u001B[37m\u001B[0m \u001B[1m1s\u001B[0m 646us/step - accuracy: 0.8570 - loss: 0.3340 - val_accuracy: 0.8611 - val_loss: 0.3121\n",
      "Epoch 35/100\n",
      "\u001B[1m881/881\u001B[0m \u001B[32m━━━━━━━━━━━━━━━━━━━━\u001B[0m\u001B[37m\u001B[0m \u001B[1m1s\u001B[0m 668us/step - accuracy: 0.8569 - loss: 0.3347 - val_accuracy: 0.8608 - val_loss: 0.3116\n",
      "Epoch 36/100\n",
      "\u001B[1m881/881\u001B[0m \u001B[32m━━━━━━━━━━━━━━━━━━━━\u001B[0m\u001B[37m\u001B[0m \u001B[1m1s\u001B[0m 621us/step - accuracy: 0.8549 - loss: 0.3325 - val_accuracy: 0.8623 - val_loss: 0.3112\n",
      "Epoch 37/100\n",
      "\u001B[1m881/881\u001B[0m \u001B[32m━━━━━━━━━━━━━━━━━━━━\u001B[0m\u001B[37m\u001B[0m \u001B[1m1s\u001B[0m 694us/step - accuracy: 0.8575 - loss: 0.3321 - val_accuracy: 0.8629 - val_loss: 0.3105\n",
      "Epoch 38/100\n",
      "\u001B[1m881/881\u001B[0m \u001B[32m━━━━━━━━━━━━━━━━━━━━\u001B[0m\u001B[37m\u001B[0m \u001B[1m1s\u001B[0m 779us/step - accuracy: 0.8600 - loss: 0.3282 - val_accuracy: 0.8625 - val_loss: 0.3107\n",
      "Epoch 39/100\n",
      "\u001B[1m881/881\u001B[0m \u001B[32m━━━━━━━━━━━━━━━━━━━━\u001B[0m\u001B[37m\u001B[0m \u001B[1m1s\u001B[0m 662us/step - accuracy: 0.8581 - loss: 0.3298 - val_accuracy: 0.8634 - val_loss: 0.3102\n",
      "Epoch 40/100\n",
      "\u001B[1m881/881\u001B[0m \u001B[32m━━━━━━━━━━━━━━━━━━━━\u001B[0m\u001B[37m\u001B[0m \u001B[1m1s\u001B[0m 574us/step - accuracy: 0.8584 - loss: 0.3297 - val_accuracy: 0.8632 - val_loss: 0.3096\n",
      "Epoch 41/100\n",
      "\u001B[1m881/881\u001B[0m \u001B[32m━━━━━━━━━━━━━━━━━━━━\u001B[0m\u001B[37m\u001B[0m \u001B[1m1s\u001B[0m 554us/step - accuracy: 0.8602 - loss: 0.3273 - val_accuracy: 0.8635 - val_loss: 0.3093\n",
      "Epoch 42/100\n",
      "\u001B[1m881/881\u001B[0m \u001B[32m━━━━━━━━━━━━━━━━━━━━\u001B[0m\u001B[37m\u001B[0m \u001B[1m1s\u001B[0m 566us/step - accuracy: 0.8583 - loss: 0.3273 - val_accuracy: 0.8634 - val_loss: 0.3091\n",
      "Epoch 43/100\n",
      "\u001B[1m881/881\u001B[0m \u001B[32m━━━━━━━━━━━━━━━━━━━━\u001B[0m\u001B[37m\u001B[0m \u001B[1m1s\u001B[0m 565us/step - accuracy: 0.8582 - loss: 0.3285 - val_accuracy: 0.8644 - val_loss: 0.3089\n",
      "Epoch 44/100\n",
      "\u001B[1m881/881\u001B[0m \u001B[32m━━━━━━━━━━━━━━━━━━━━\u001B[0m\u001B[37m\u001B[0m \u001B[1m0s\u001B[0m 549us/step - accuracy: 0.8566 - loss: 0.3301 - val_accuracy: 0.8629 - val_loss: 0.3084\n",
      "Epoch 45/100\n",
      "\u001B[1m881/881\u001B[0m \u001B[32m━━━━━━━━━━━━━━━━━━━━\u001B[0m\u001B[37m\u001B[0m \u001B[1m0s\u001B[0m 548us/step - accuracy: 0.8549 - loss: 0.3294 - val_accuracy: 0.8637 - val_loss: 0.3079\n",
      "Epoch 46/100\n",
      "\u001B[1m881/881\u001B[0m \u001B[32m━━━━━━━━━━━━━━━━━━━━\u001B[0m\u001B[37m\u001B[0m \u001B[1m0s\u001B[0m 554us/step - accuracy: 0.8569 - loss: 0.3293 - val_accuracy: 0.8631 - val_loss: 0.3081\n",
      "Epoch 47/100\n",
      "\u001B[1m881/881\u001B[0m \u001B[32m━━━━━━━━━━━━━━━━━━━━\u001B[0m\u001B[37m\u001B[0m \u001B[1m1s\u001B[0m 563us/step - accuracy: 0.8584 - loss: 0.3262 - val_accuracy: 0.8635 - val_loss: 0.3077\n",
      "Epoch 48/100\n",
      "\u001B[1m881/881\u001B[0m \u001B[32m━━━━━━━━━━━━━━━━━━━━\u001B[0m\u001B[37m\u001B[0m \u001B[1m1s\u001B[0m 564us/step - accuracy: 0.8599 - loss: 0.3248 - val_accuracy: 0.8627 - val_loss: 0.3074\n",
      "Epoch 49/100\n",
      "\u001B[1m881/881\u001B[0m \u001B[32m━━━━━━━━━━━━━━━━━━━━\u001B[0m\u001B[37m\u001B[0m \u001B[1m1s\u001B[0m 562us/step - accuracy: 0.8612 - loss: 0.3240 - val_accuracy: 0.8632 - val_loss: 0.3070\n",
      "Epoch 50/100\n",
      "\u001B[1m881/881\u001B[0m \u001B[32m━━━━━━━━━━━━━━━━━━━━\u001B[0m\u001B[37m\u001B[0m \u001B[1m1s\u001B[0m 567us/step - accuracy: 0.8571 - loss: 0.3320 - val_accuracy: 0.8625 - val_loss: 0.3067\n",
      "Epoch 51/100\n",
      "\u001B[1m881/881\u001B[0m \u001B[32m━━━━━━━━━━━━━━━━━━━━\u001B[0m\u001B[37m\u001B[0m \u001B[1m1s\u001B[0m 556us/step - accuracy: 0.8575 - loss: 0.3299 - val_accuracy: 0.8632 - val_loss: 0.3065\n",
      "Epoch 52/100\n",
      "\u001B[1m881/881\u001B[0m \u001B[32m━━━━━━━━━━━━━━━━━━━━\u001B[0m\u001B[37m\u001B[0m \u001B[1m0s\u001B[0m 554us/step - accuracy: 0.8563 - loss: 0.3283 - val_accuracy: 0.8643 - val_loss: 0.3061\n",
      "Epoch 53/100\n",
      "\u001B[1m881/881\u001B[0m \u001B[32m━━━━━━━━━━━━━━━━━━━━\u001B[0m\u001B[37m\u001B[0m \u001B[1m0s\u001B[0m 549us/step - accuracy: 0.8575 - loss: 0.3286 - val_accuracy: 0.8639 - val_loss: 0.3061\n"
     ]
    }
   ],
   "source": [
    "from tensorflow.keras.models import Sequential\n",
    "from tensorflow.keras.layers import Dense, Dropout, Input\n",
    "from tensorflow.keras.optimizers import Adam\n",
    "from tensorflow.keras.callbacks import EarlyStopping\n",
    "from sklearn.preprocessing import StandardScaler\n",
    "\n",
    "# Standardize the data\n",
    "scaler = StandardScaler()\n",
    "X_train_scaled = scaler.fit_transform(X_train)\n",
    "X_test_scaled = scaler.transform(X_test)\n",
    "\n",
    "# Define the model\n",
    "model = Sequential([\n",
    "    Input(shape=(X_train_scaled.shape[1],)),  # Input layer\n",
    "    Dense(64, activation='relu'),            # Hidden layer 1\n",
    "    Dropout(0.3),                            # Dropout to prevent overfitting\n",
    "    Dense(32, activation='relu'),            # Hidden layer 2\n",
    "    Dropout(0.3),                            # Dropout to prevent overfitting\n",
    "    Dense(1, activation='sigmoid')           # Output layer\n",
    "])\n",
    "\n",
    "# Compile the model\n",
    "model.compile(optimizer=Adam(learning_rate=0.0001), loss='binary_crossentropy', metrics=['accuracy'])\n",
    "\n",
    "# Define early stopping\n",
    "early_stopping = EarlyStopping(\n",
    "    monitor='val_accuracy',  # Monitor validation accuracy\n",
    "    patience=10,             # Allow up to 10 epochs of no improvement\n",
    "    restore_best_weights=True\n",
    ")\n",
    "\n",
    "# Train the model\n",
    "history = model.fit(\n",
    "    X_train_scaled, y_train,\n",
    "    epochs=100,                # Allow more epochs for fine-tuning\n",
    "    batch_size=64,             # Batch size\n",
    "    validation_split=0.2,      # 20% of training data for validation\n",
    "    callbacks=[early_stopping],\n",
    "    verbose=1\n",
    ")\n"
   ],
   "metadata": {
    "collapsed": false,
    "ExecuteTime": {
     "end_time": "2024-11-20T21:25:58.226700Z",
     "start_time": "2024-11-20T21:25:11.656251Z"
    }
   },
   "id": "19131582ac6723cf",
   "execution_count": 6
  },
  {
   "cell_type": "code",
   "outputs": [
    {
     "name": "stdout",
     "output_type": "stream",
     "text": [
      "\u001B[1m944/944\u001B[0m \u001B[32m━━━━━━━━━━━━━━━━━━━━\u001B[0m\u001B[37m\u001B[0m \u001B[1m0s\u001B[0m 329us/step\n",
      "Test Accuracy: 86.02%\n"
     ]
    }
   ],
   "source": [
    "from sklearn.metrics import accuracy_score, confusion_matrix, classification_report\n",
    "\n",
    "# Predict on the test set\n",
    "y_pred = model.predict(X_test_scaled)  # Outputs probabilities\n",
    "y_pred_binary = (y_pred > 0.5).astype(int)  # Convert probabilities to binary values (0 or 1)\n",
    "\n",
    "# Evaluate accuracy\n",
    "accuracy = accuracy_score(y_test, y_pred_binary)\n",
    "print(f\"Test Accuracy: {accuracy * 100:.2f}%\")\n"
   ],
   "metadata": {
    "collapsed": false,
    "ExecuteTime": {
     "end_time": "2024-11-20T21:25:58.767342Z",
     "start_time": "2024-11-20T21:25:58.227695Z"
    }
   },
   "id": "f1bc1f4e738fc51a",
   "execution_count": 7
  },
  {
   "cell_type": "code",
   "outputs": [
    {
     "name": "stdout",
     "output_type": "stream",
     "text": [
      "Confusion Matrix:\n",
      "[[13908  1139]\n",
      " [ 3079 12051]]\n"
     ]
    }
   ],
   "source": [
    "# Generate the confusion matrix\n",
    "conf_matrix = confusion_matrix(y_test, y_pred_binary)\n",
    "print(\"Confusion Matrix:\")\n",
    "print(conf_matrix)\n"
   ],
   "metadata": {
    "collapsed": false,
    "ExecuteTime": {
     "end_time": "2024-11-20T21:25:58.776275Z",
     "start_time": "2024-11-20T21:25:58.768217Z"
    }
   },
   "id": "41ef0f8e0d584429",
   "execution_count": 8
  },
  {
   "cell_type": "code",
   "outputs": [
    {
     "name": "stdout",
     "output_type": "stream",
     "text": [
      "\n",
      "Classification Report:\n",
      "              precision    recall  f1-score   support\n",
      "\n",
      "           0       0.82      0.92      0.87     15047\n",
      "           1       0.91      0.80      0.85     15130\n",
      "\n",
      "    accuracy                           0.86     30177\n",
      "   macro avg       0.87      0.86      0.86     30177\n",
      "weighted avg       0.87      0.86      0.86     30177\n"
     ]
    }
   ],
   "source": [
    "# Generate the classification report\n",
    "print(\"\\nClassification Report:\")\n",
    "print(classification_report(y_test, y_pred_binary))\n"
   ],
   "metadata": {
    "collapsed": false,
    "ExecuteTime": {
     "end_time": "2024-11-20T21:25:58.828621Z",
     "start_time": "2024-11-20T21:25:58.777081Z"
    }
   },
   "id": "baa0e61bfa837cf8",
   "execution_count": 9
  },
  {
   "cell_type": "code",
   "outputs": [
    {
     "data": {
      "text/plain": "<Figure size 1200x600 with 1 Axes>",
      "image/png": "[encoded data removed]"
     },
     "metadata": {},
     "output_type": "display_data"
    }
   ],
   "source": [
    "import matplotlib.pyplot as plt\n",
    "\n",
    "# Plot training & validation accuracy\n",
    "plt.figure(figsize=(12, 6))\n",
    "plt.plot(history.history['accuracy'], label='Training Accuracy')\n",
    "plt.plot(history.history['val_accuracy'], label='Validation Accuracy')\n",
    "plt.title('Model Accuracy Over Epochs')\n",
    "plt.xlabel('Epochs')\n",
    "plt.ylabel('Accuracy')\n",
    "plt.legend()\n",
    "plt.show()\n"
   ],
   "metadata": {
    "collapsed": false,
    "ExecuteTime": {
     "end_time": "2024-11-20T21:25:59.910320Z",
     "start_time": "2024-11-20T21:25:58.832251Z"
    }
   },
   "id": "517dfe0da850fcbc",
   "execution_count": 10
  },
  {
   "cell_type": "markdown",
   "source": [
    "### Conclusion\n",
    "The neural network model achieved a test accuracy of 86.02%, surpassing the target of 85%. This indicates that the model is well-suited for predicting loan status based on the provided features.\n",
    "\n",
    "The training and validation accuracy trends show consistent improvement over the epochs, with minimal overfitting, as evidenced by the close alignment between training and validation curves. Similarly, the loss curves demonstrate steady decreases in both training and validation loss, further confirming that the model generalizes well to unseen data.\n",
    "\n",
    "From the confusion matrix and classification report, we observe:\n",
    "\n",
    "- **Class 0 (loan not approved):** High recall (93%) ensures most true negatives are correctly identified, though precision is slightly lower (82%), suggesting some false positives.\n",
    "- **Class 1 (loan approved):** The model demonstrates strong precision (92%), meaning most predicted positives are correct, though recall (80%) suggests room for improvement in identifying all true positives."
   ],
   "metadata": {
    "collapsed": false
   },
   "id": "37c75acd366f33be"
  }
 ],
 "metadata": {
  "kernelspec": {
   "display_name": "Python 3 (ipykernel)",
   "language": "python",
   "name": "python3"
  },
  "language_info": {
   "codemirror_mode": {
    "name": "ipython",
    "version": 3
   },
   "file_extension": ".py",
   "mimetype": "text/x-python",
   "name": "python",
   "nbconvert_exporter": "python",
   "pygments_lexer": "ipython3",
   "version": "3.11.9"
  }
 },
 "nbformat": 4,
 "nbformat_minor": 5
}
